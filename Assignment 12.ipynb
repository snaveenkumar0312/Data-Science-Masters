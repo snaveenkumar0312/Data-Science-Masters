{
 "cells": [
  {
   "cell_type": "markdown",
   "metadata": {},
   "source": [
    "1. In what modes should the PdfFileReader() and PdfFileWriter() File objects will be opened?\n",
    "\n",
    "Ans: PyPDF2"
   ]
  },
  {
   "cell_type": "markdown",
   "metadata": {},
   "source": [
    "2. From a PdfFileReader object, how do you get a Page object for page 5?"
   ]
  },
  {
   "cell_type": "code",
   "execution_count": 1,
   "metadata": {},
   "outputs": [
    {
     "name": "stdout",
     "output_type": "stream",
     "text": [
      "Requirement already satisfied: PyPDF2 in c:\\users\\soundarya\\anaconda3\\lib\\site-packages (3.0.1)\n",
      "Requirement already satisfied: typing_extensions>=3.10.0.0; python_version < \"3.10\" in c:\\users\\soundarya\\anaconda3\\lib\\site-packages (from PyPDF2) (4.5.0)\n"
     ]
    }
   ],
   "source": [
    "!pip3 install PyPDF2\n",
    "\n",
    "\n",
    "# creating a pdf file object\n",
    "pdfFileObj = open(r\"C:\\Users\\soundarya\\OneDrive\\Desktop\\shutilcopy\\Get_Started_With_Smallpdf.pdf\",\"rb\")"
   ]
  },
  {
   "cell_type": "code",
   "execution_count": 2,
   "metadata": {},
   "outputs": [],
   "source": [
    "import PyPDF2\n",
    "pdfReader = PyPDF2.PdfReader(pdfFileObj)"
   ]
  },
  {
   "cell_type": "code",
   "execution_count": 3,
   "metadata": {},
   "outputs": [
    {
     "name": "stdout",
     "output_type": "stream",
     "text": [
      "Requirement already satisfied: PyPDF2 in c:\\users\\soundarya\\anaconda3\\lib\\site-packages (3.0.1)\n",
      "Requirement already satisfied: typing_extensions>=3.10.0.0; python_version < \"3.10\" in c:\\users\\soundarya\\anaconda3\\lib\\site-packages (from PyPDF2) (4.5.0)\n"
     ]
    },
    {
     "data": {
      "text/plain": [
       "{'/Contents': {'/Filter': '/FlateDecode'},\n",
       " '/CropBox': [0, 0, 606.24, 793.44],\n",
       " '/MediaBox': [0, 0, 606.24, 793.44],\n",
       " '/Parent': {'/Count': 42,\n",
       "  '/Kids': [IndirectObject(350, 0, 2203305546656),\n",
       "   IndirectObject(1, 0, 2203305546656),\n",
       "   IndirectObject(5, 0, 2203305546656),\n",
       "   IndirectObject(8, 0, 2203305546656),\n",
       "   IndirectObject(12, 0, 2203305546656),\n",
       "   IndirectObject(16, 0, 2203305546656),\n",
       "   IndirectObject(19, 0, 2203305546656),\n",
       "   IndirectObject(23, 0, 2203305546656),\n",
       "   IndirectObject(26, 0, 2203305546656),\n",
       "   IndirectObject(29, 0, 2203305546656),\n",
       "   IndirectObject(33, 0, 2203305546656),\n",
       "   IndirectObject(37, 0, 2203305546656),\n",
       "   IndirectObject(40, 0, 2203305546656),\n",
       "   IndirectObject(43, 0, 2203305546656),\n",
       "   IndirectObject(47, 0, 2203305546656),\n",
       "   IndirectObject(51, 0, 2203305546656),\n",
       "   IndirectObject(55, 0, 2203305546656),\n",
       "   IndirectObject(59, 0, 2203305546656),\n",
       "   IndirectObject(63, 0, 2203305546656),\n",
       "   IndirectObject(67, 0, 2203305546656),\n",
       "   IndirectObject(70, 0, 2203305546656),\n",
       "   IndirectObject(73, 0, 2203305546656),\n",
       "   IndirectObject(76, 0, 2203305546656),\n",
       "   IndirectObject(79, 0, 2203305546656),\n",
       "   IndirectObject(82, 0, 2203305546656),\n",
       "   IndirectObject(86, 0, 2203305546656),\n",
       "   IndirectObject(90, 0, 2203305546656),\n",
       "   IndirectObject(94, 0, 2203305546656),\n",
       "   IndirectObject(97, 0, 2203305546656),\n",
       "   IndirectObject(100, 0, 2203305546656),\n",
       "   IndirectObject(104, 0, 2203305546656),\n",
       "   IndirectObject(108, 0, 2203305546656),\n",
       "   IndirectObject(112, 0, 2203305546656),\n",
       "   IndirectObject(116, 0, 2203305546656),\n",
       "   IndirectObject(120, 0, 2203305546656),\n",
       "   IndirectObject(124, 0, 2203305546656),\n",
       "   IndirectObject(127, 0, 2203305546656),\n",
       "   IndirectObject(130, 0, 2203305546656),\n",
       "   IndirectObject(134, 0, 2203305546656),\n",
       "   IndirectObject(138, 0, 2203305546656),\n",
       "   IndirectObject(141, 0, 2203305546656),\n",
       "   IndirectObject(145, 0, 2203305546656)],\n",
       "  '/Type': '/Pages'},\n",
       " '/Resources': {'/Font': {'/T1_0': {'/BaseFont': '/Times-Roman',\n",
       "    '/Encoding': '/WinAnsiEncoding',\n",
       "    '/Subtype': '/Type1',\n",
       "    '/Type': '/Font'},\n",
       "   '/T1_1': {'/BaseFont': '/Times-Italic',\n",
       "    '/Encoding': '/WinAnsiEncoding',\n",
       "    '/Subtype': '/Type1',\n",
       "    '/Type': '/Font'},\n",
       "   '/T1_2': {'/BaseFont': '/Helvetica',\n",
       "    '/Encoding': '/WinAnsiEncoding',\n",
       "    '/Subtype': '/Type1',\n",
       "    '/Type': '/Font'},\n",
       "   '/T1_3': {'/BaseFont': '/Helvetica-Oblique',\n",
       "    '/Encoding': '/WinAnsiEncoding',\n",
       "    '/Subtype': '/Type1',\n",
       "    '/Type': '/Font'}},\n",
       "  '/ProcSet': ['/PDF', '/Text', '/ImageC'],\n",
       "  '/XObject': {'/Im0': {'/BitsPerComponent': 8,\n",
       "    '/ColorSpace': '/DeviceRGB',\n",
       "    '/Filter': '/DCTDecode',\n",
       "    '/Height': 1653,\n",
       "    '/Subtype': '/Image',\n",
       "    '/Type': '/XObject',\n",
       "    '/Width': 1263}}},\n",
       " '/Rotate': 0,\n",
       " '/Type': '/Page'}"
      ]
     },
     "execution_count": 3,
     "metadata": {},
     "output_type": "execute_result"
    }
   ],
   "source": [
    "!pip3 install PyPDF2\n",
    "import PyPDF2\n",
    "\n",
    "# creating a pdf file object\n",
    "pdfFileObj = open(r\"C:\\Users\\soundarya\\OneDrive\\Desktop\\shutilcopy\\pkpadmin,+1135-5265-1-CE.pdf\",\"rb\")\n",
    "\n",
    "# creating a pdf reader object\n",
    "pdfReader = PyPDF2.PdfReader(pdfFileObj)\n",
    "\n",
    "  \n",
    "# creating a page object\n",
    "pageObj = pdfReader.pages[5]\n",
    "pageObj\n"
   ]
  },
  {
   "cell_type": "code",
   "execution_count": 4,
   "metadata": {},
   "outputs": [],
   "source": [
    "pdfFileObj.close()"
   ]
  },
  {
   "cell_type": "markdown",
   "metadata": {},
   "source": [
    "3. What PdfFileReader variable stores the number of pages in the PDF document?"
   ]
  },
  {
   "cell_type": "markdown",
   "metadata": {},
   "source": [
    "Ans: The total number of pages in the document is stored in the numPages attribute of a PdfFileReader object"
   ]
  },
  {
   "cell_type": "markdown",
   "metadata": {},
   "source": [
    "4. If a PdfFileReader object’s PDF is encrypted with the password swordfish, what must you do before you can obtain Page objects from it?"
   ]
  },
  {
   "cell_type": "markdown",
   "metadata": {},
   "source": [
    "Ans: Before we obtain the page object, the pdf has to be decrypted by calling .decrypt('swordfish')"
   ]
  },
  {
   "cell_type": "markdown",
   "metadata": {},
   "source": [
    "5. What methods do you use to rotate a page?"
   ]
  },
  {
   "cell_type": "markdown",
   "metadata": {},
   "source": [
    "The rotateClockwise() and rotateCounterClockwise() methods. The degrees to rotate is passed as an integer argument"
   ]
  },
  {
   "cell_type": "markdown",
   "metadata": {},
   "source": [
    "6.What is the difference between a Run object and a Paragraph object?"
   ]
  },
  {
   "cell_type": "markdown",
   "metadata": {},
   "source": [
    "Word documents contain formatted text wrapped within three object levels. The Lowest level- run objects, middle level- paragraph objects and highest level- document object.\n",
    "\n",
    "Paragraph Object : A document contains multiple paragraphs. A paragraph begins on a new line and contains multiple\n",
    "Run Objects : Runs are contiguous groups of characters within a paragraph with the same style"
   ]
  },
  {
   "cell_type": "markdown",
   "metadata": {},
   "source": [
    "7.How do you obtain a list of Paragraph objects for a Document object that’s stored in a variable named doc?"
   ]
  },
  {
   "cell_type": "markdown",
   "metadata": {},
   "source": [
    "import docx\n",
    "doc = docx.Document('abc.docx')\n",
    "doc.paragraphs"
   ]
  },
  {
   "cell_type": "markdown",
   "metadata": {},
   "source": [
    "8. What type of object has bold, underline, italic, strike, and outline variables?\n"
   ]
  },
  {
   "cell_type": "markdown",
   "metadata": {},
   "source": [
    "Ans:  A Run object has bold, underline,italic,strike and outline variables"
   ]
  },
  {
   "cell_type": "markdown",
   "metadata": {},
   "source": [
    "9. What is the difference between False, True, and None for the bold variable?"
   ]
  },
  {
   "cell_type": "markdown",
   "metadata": {},
   "source": [
    "Runs can be further styled using text attributes. Each attribute can be set to one of three values:\n",
    "True - the attribute is always enabled, no matter what other styles are applied to the run\n",
    "False - the attribute is always disabled\n",
    "None - defaults to whatever the run’s style is set to"
   ]
  },
  {
   "cell_type": "markdown",
   "metadata": {},
   "source": [
    "10. How do you create a Document object for a new Word document?"
   ]
  },
  {
   "cell_type": "markdown",
   "metadata": {},
   "source": [
    "docx.Document() "
   ]
  },
  {
   "cell_type": "markdown",
   "metadata": {},
   "source": [
    "11. How do you add a paragraph with the text 'Hello, there!' to a Document object stored in a variable named doc?"
   ]
  },
  {
   "cell_type": "markdown",
   "metadata": {},
   "source": [
    "\n",
    "import docx\n",
    "doc = docx.Document()\n",
    "\n",
    "doc.add_paragraph('Hello there!')\n",
    "doc.save('hello.docx')\n",
    "     "
   ]
  },
  {
   "cell_type": "markdown",
   "metadata": {},
   "source": [
    "12. What integers represent the levels of headings available in Word documents?"
   ]
  },
  {
   "cell_type": "markdown",
   "metadata": {},
   "source": [
    "integer from 0 to 4"
   ]
  },
  {
   "cell_type": "code",
   "execution_count": null,
   "metadata": {},
   "outputs": [],
   "source": []
  }
 ],
 "metadata": {
  "kernelspec": {
   "display_name": "Python 3",
   "language": "python",
   "name": "python3"
  },
  "language_info": {
   "codemirror_mode": {
    "name": "ipython",
    "version": 3
   },
   "file_extension": ".py",
   "mimetype": "text/x-python",
   "name": "python",
   "nbconvert_exporter": "python",
   "pygments_lexer": "ipython3",
   "version": "3.8.5"
  }
 },
 "nbformat": 4,
 "nbformat_minor": 4
}
