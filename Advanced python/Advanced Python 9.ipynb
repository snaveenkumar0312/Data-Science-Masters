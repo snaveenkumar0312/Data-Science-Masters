{
 "cells": [
  {
   "cell_type": "markdown",
   "metadata": {},
   "source": [
    "\n",
    "\n",
    "Q1. In Python 3.X, what are the names and functions of string object types?\n",
    "\n",
    "The following are the names and functions of string object types in Python 3.X\n",
    "\n",
    "1..isdecimal() -> Returns True if all characters in a string are decimal. 2..isalnum() -> Returns True if all characters in the string are AlphaNumeric. 3..istitle() -> Returns True if first character in a string is in Uppercase. 4..partition(<sub_string>) -> Splits string at first occurance of sub string and returns a tuple of 3 elements. 5..rpartition(<sub_string>) -> Splits string at last occurance of sub string and returns a tuple of 3 elements. 6..isidentifier() -> Returns True if give string is a valid identifier name. 7.len() -> Returns the length of the given string. 8..index(<sub_string>) -> Returns the lowest index of substring if substring is found in the string. 9..rindex(<sub_string>) -> Returns the highest index of substring if substring is found in the string. 10.max() -> Returns the highest Alphabetical Character in the string as per ASCII. 11.min() -> Returns the lowest Alphabetical Character in the string as per ASCII. 12..splitlines() -> Returns a list of lines in the string. 13..capitalize() -> Returns the string with first character capitalized. 14..upper() -> Returns the string with all characters in uppercase. 15..lower() -> Returns the string with all characters in lowercase 16..casefold() -> Returns the string in lowercase which can be used for caseless comparisions. 17..expandtabs(no_of_spaces) -> Replaces tabs in a string with specified no of spaces default is 8 18..find(<sub_string>) -> Returns lowest index of substring if substring is found in the string else returns -1. 19..rfind(<sub_string>) -> Returns highest index of substring if substring is found in the string else returns -1. 20..count() -> Returns the no of occurances of the char in the given string. 21..split() -> Returns list of words seperated by given sep else seperated by whitespace. 22..rsplit() -> Returns list of words seperated by given sep else seperated by whitespace scanning from end. 23..lstrip() -> Returns a copy of where leading whitespaces are removed. 24..rstrip() -> Returns a copy of where trailed whitespaces are removed. 25..strip() -> Returns a copy of where both leading and trailing whitespaces are removed. 26..swapcase() -> Swaps lowercase characters with uppercase and vice versa. 27..join() -> Concatenates a list or tuple of words with intervening occuernces of sep. 28..translate(<mapping_table>) -> translates the characters using table. 29..maketrans() -> Creating a mapping translation tbale usable for .translate(<mapping_table>) 30..replace(<char_1>,<char_2>) -> Replace all occurances of char_1 with char_2 in string. 31..encode() -> Encodes string into any encoding supported by python. Default encoding is UTF-8. 32..ljust(<no_of_spaces>) -> Left-justify in a field of given width. 33..rjust(<no_of_spaces>) -> Right-justify in a field of given width. 34..center(<no_of_spaces>) -> Center-justify in a field of given width. 35..zfill() -> Zfill adds zeros to the begining of string until the specified length is reached."
   ]
  },
  {
   "cell_type": "markdown",
   "metadata": {},
   "source": [
    "Q2. How do the string forms in Python 3.X vary in terms of operations?\n",
    "\n",
    "In Python3 default format of strings is Unicode Whereas in Pyton2 we need to explicitly mention Unicode value using u\n",
    "\n",
    "Q3. In 3.X, how do you put non-ASCII Unicode characters in a string?\n",
    "\n",
    "n Python 3.x unidecode() method from unidecode library can be used to put non-ASCII Unicode Characters in a string.\n",
    "\n",
    "Q4. In Python 3.X, what are the key differences between text-mode and binary-mode files?\n",
    "\n",
    "The major difference between these two is that a text file contains textual information in the form of alphabets, digits and special characters or symbols. On the other hand, a binary file contains bytes or a compiled version of a text file.\n",
    "\n",
    "Q5. How can you interpret a Unicode text file containing text encoded in a different encoding than your platform's default?\n",
    "\n",
    "Use of encode() and decode() method can be used to you interpret a Unicode text file containing text encoded in a different encoding than your platform's default, by default encoding parameter is UTF-8\n",
    "\n",
    "Q6. What is the best way to make a Unicode text file in a particular encoding format?\n",
    "\n",
    "Use str.encode() and file.write() to make a Unicode text file in a particular encoding format, default encoding format is UTF-18."
   ]
  },
  {
   "cell_type": "markdown",
   "metadata": {},
   "source": [
    "Q7. What qualifies ASCII text as a form of Unicode text?\n",
    "\n",
    "Unicode represents most written languages in the world. ASCII has its equivalent in Unicode. The difference between ASCII and Unicode is that ASCII represents lowercase letters (a-z), uppercase letters (A-Z), digits (0–9) and symbols such as punctuation marks while Unicode represents letters of English, Arabic, Greek etc. mathematical symbols, historical scripts, emoji covering a wide range of characters than ASCII.\n",
    "\n",
    "Q8. How much of an effect does the change in string types in Python 3.X have on your code?\n",
    "\n",
    "Python 3 stores strings as Unicode by default whereas Python 2 requires you to mark a string with a u if you want to store it as Unicode. Unicode strings are more versatile than ASCII strings, which are the Python 3.X default, as they can store letters from foreign languages as well as emoji and the standard Roman letters and numerals."
   ]
  }
 ],
 "metadata": {
  "kernelspec": {
   "display_name": "Python 3",
   "language": "python",
   "name": "python3"
  },
  "language_info": {
   "codemirror_mode": {
    "name": "ipython",
    "version": 3
   },
   "file_extension": ".py",
   "mimetype": "text/x-python",
   "name": "python",
   "nbconvert_exporter": "python",
   "pygments_lexer": "ipython3",
   "version": "3.8.5"
  }
 },
 "nbformat": 4,
 "nbformat_minor": 4
}
