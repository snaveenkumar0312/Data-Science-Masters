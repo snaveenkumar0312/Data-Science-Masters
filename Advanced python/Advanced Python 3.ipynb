{
 "cells": [
  {
   "cell_type": "code",
   "execution_count": 2,
   "metadata": {},
   "outputs": [
    {
     "name": "stdout",
     "output_type": "stream",
     "text": [
      "Object `superclass` not found.\n"
     ]
    }
   ],
   "source": [
    "1. What is the concept of an abstract superclass?"
   ]
  },
  {
   "cell_type": "code",
   "execution_count": null,
   "metadata": {},
   "outputs": [],
   "source": [
    "1. What is the concept of an abstract superclass"
   ]
  },
  {
   "cell_type": "markdown",
   "metadata": {},
   "source": [
    "Astract class can e considered as a blueprint for other classes. It allows us to create a set of methods that must be created withih any child classes built from the abstract class.\n",
    "\n",
    "It can be hepful when working in large teams. In python we need to use Abstract Base Class(ABC) to use abstract classes and we use abstract decorator to convert methods into abstract methods.\n",
    "\n",
    "from abc import ABC, abbstractmethod class Automotive(ABC): @abstractmethod def noofwheels(self) # Abstract Method\n",
    "\n",
    "class Car(Automotive): def noofwheels(self): print(\"wheels = 4\") class Tractor(Automotive): def noofwheels(self): print(\"wheels = 8\")"
   ]
  },
  {
   "cell_type": "code",
   "execution_count": 3,
   "metadata": {},
   "outputs": [
    {
     "name": "stdout",
     "output_type": "stream",
     "text": [
      "Object `statement` not found.\n"
     ]
    }
   ],
   "source": [
    "2.What happens when a class statement's top level contains a basic assignment statement?"
   ]
  },
  {
   "cell_type": "code",
   "execution_count": null,
   "metadata": {},
   "outputs": [],
   "source": [
    "2.What happens when a class statement's top level contains a basic assignment statement"
   ]
  },
  {
   "cell_type": "markdown",
   "metadata": {},
   "source": [
    "when a class statements's top level contains a basic assignment statement, it is treated as class variable. The variables which are defined inside the method are treated as instance variavle or local variable.\n",
    "\n",
    "Several instances of the class share same class variables where as instance variables change based on the instance\n",
    "\n",
    "class Fish: place of living = 'Water' # class variable def init(self,type): self.type = type # instance variable\n",
    "\n",
    "For different fishes type(instance variable) changes accordingly where as place of living (class variable) is same for all of them."
   ]
  },
  {
   "cell_type": "markdown",
   "metadata": {},
   "source": [
    "3.Why does a class need to manually call a superclass's __init__ method?"
   ]
  },
  {
   "cell_type": "markdown",
   "metadata": {},
   "source": [
    "If a child class has init method, then it will not inherit the init method from parent class. This is because init method in child class will override init method of parent class. Hence we have to manually call a superclass's init method using super() method\n",
    "\n",
    "class Child: def init(self,name,age): self.name = name self.age = age\n",
    "\n",
    "class student(Child): def init(self,name,age,standard): super().init(name,age) self.standard = standard"
   ]
  },
  {
   "cell_type": "markdown",
   "metadata": {},
   "source": [
    "\n",
    "4. How can you augment, instead of completely replacing, an inherited method?\n",
    "\n"
   ]
  },
  {
   "cell_type": "markdown",
   "metadata": {},
   "source": [
    "To augment a method in parent class without completely replacing it in child class we can use the super method"
   ]
  },
  {
   "cell_type": "markdown",
   "metadata": {},
   "source": [
    "\n",
    "5. How is the local scope of a class different from that of a function?\n"
   ]
  },
  {
   "cell_type": "markdown",
   "metadata": {},
   "source": [
    "A local scope of class is different from local scope of function. This is because the variables declared in a function are local to that function and can use used within that function\n",
    "\n",
    "Where as variables decrlared in a class outside of all methods can directly be accessed by the methods of class and can also be accessed using access operator which is \".\" on a class or instance of class."
   ]
  },
  {
   "cell_type": "code",
   "execution_count": null,
   "metadata": {},
   "outputs": [],
   "source": []
  }
 ],
 "metadata": {
  "kernelspec": {
   "display_name": "Python 3",
   "language": "python",
   "name": "python3"
  },
  "language_info": {
   "codemirror_mode": {
    "name": "ipython",
    "version": 3
   },
   "file_extension": ".py",
   "mimetype": "text/x-python",
   "name": "python",
   "nbconvert_exporter": "python",
   "pygments_lexer": "ipython3",
   "version": "3.8.5"
  }
 },
 "nbformat": 4,
 "nbformat_minor": 4
}
