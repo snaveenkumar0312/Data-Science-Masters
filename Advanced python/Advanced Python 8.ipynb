{
 "cells": [
  {
   "cell_type": "markdown",
   "metadata": {},
   "source": [
    "Q1. What are the two latest user-defined exception constraints in Python 3.X?\n",
    "\n",
    "raise and assert are two latest user-defined exception cnstrains in python 3.X\n",
    "\n",
    "Q2. How are class-based exceptions that have been raised matched to handlers?\n",
    "\n",
    "Custom exceptions can be raised in python by creating a new class. The class should be derived either directly or indirectly from buily-in Exception class. This new class can be raised using the raise statement with an optional error message.\n",
    "\n",
    "Q3. Describe two methods for attaching context information to exception artefacts.\n",
    "\n",
    "We can use add_note method to add custom message to an error. We can also use logger.error to log the error message.\n",
    "\n",
    "Q4. Describe two methods for specifying the text of an exception object's error message.\n",
    "\n",
    "raise and assert are two methods for specifying the text of an exception object's error message.\n",
    "\n",
    "Q5. Why do you no longer use string-based exceptions?\n",
    "\n",
    "String-based Exceptions doesn't inherit from Exceptions. so plain exceptions catch all exceptions and not only system exceptions."
   ]
  }
 ],
 "metadata": {
  "kernelspec": {
   "display_name": "Python 3",
   "language": "python",
   "name": "python3"
  },
  "language_info": {
   "codemirror_mode": {
    "name": "ipython",
    "version": 3
   },
   "file_extension": ".py",
   "mimetype": "text/x-python",
   "name": "python",
   "nbconvert_exporter": "python",
   "pygments_lexer": "ipython3",
   "version": "3.8.5"
  }
 },
 "nbformat": 4,
 "nbformat_minor": 4
}
