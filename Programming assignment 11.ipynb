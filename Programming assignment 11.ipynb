{
 "cells": [
  {
   "cell_type": "markdown",
   "metadata": {},
   "source": [
    "1.Write a Python program to find words which are greater than given length k?"
   ]
  },
  {
   "cell_type": "code",
   "execution_count": 32,
   "metadata": {},
   "outputs": [
    {
     "data": {
      "text/plain": [
       "['naveen', 'kumar', 'venus']"
      ]
     },
     "execution_count": 32,
     "metadata": {},
     "output_type": "execute_result"
    }
   ],
   "source": [
    "def strl(a,k):\n",
    "    b=[]\n",
    "    for i in range(len(a)):\n",
    "        if (len(a[i]) > k):\n",
    "             b.append(a[i])\n",
    "    return b\n",
    "    \n",
    " \n",
    "a=[\"naveen\",\"kumar\",\"mars\",\"venus\"]\n",
    "b=4\n",
    "strl(a,b)"
   ]
  },
  {
   "cell_type": "markdown",
   "metadata": {},
   "source": [
    "2.Write a Python program for removing i-th character from a string?"
   ]
  },
  {
   "cell_type": "code",
   "execution_count": 49,
   "metadata": {},
   "outputs": [
    {
     "data": {
      "text/plain": [
       "'Naeen'"
      ]
     },
     "execution_count": 49,
     "metadata": {},
     "output_type": "execute_result"
    }
   ],
   "source": [
    "def remith(a,b):\n",
    "    n=(b-1)\n",
    "    x=a[:n]\n",
    "    y=a[n+1:]\n",
    "    z=x+y\n",
    "    return z\n",
    "\n",
    "remith(\"Naveen\",3)"
   ]
  },
  {
   "cell_type": "markdown",
   "metadata": {},
   "source": [
    "3.Write a Python program to split and join a string?"
   ]
  },
  {
   "cell_type": "code",
   "execution_count": 61,
   "metadata": {},
   "outputs": [
    {
     "data": {
      "text/plain": [
       "['Naveen', 'kumar']"
      ]
     },
     "execution_count": 61,
     "metadata": {},
     "output_type": "execute_result"
    }
   ],
   "source": [
    "a=\"Naveen kumar\"\n",
    "a.split(\" \")"
   ]
  },
  {
   "cell_type": "code",
   "execution_count": 65,
   "metadata": {},
   "outputs": [
    {
     "data": {
      "text/plain": [
       "'Naveen Kumar s'"
      ]
     },
     "execution_count": 65,
     "metadata": {},
     "output_type": "execute_result"
    }
   ],
   "source": [
    "a=[\"Naveen\",\"Kumar\",\"s\"]\n",
    "\" \".join(a)"
   ]
  },
  {
   "cell_type": "markdown",
   "metadata": {},
   "source": [
    "4.Write a Python to check if a given string is binary string or not?"
   ]
  },
  {
   "cell_type": "code",
   "execution_count": 23,
   "metadata": {},
   "outputs": [
    {
     "name": "stdout",
     "output_type": "stream",
     "text": [
      "it is not a binary string\n"
     ]
    }
   ],
   "source": [
    "b=\"010sb\"\n",
    "c=\"01\"\n",
    "if b[i] not in c:\n",
    "    print(\"it is not a binary string\")\n",
    "else:\n",
    "    print(\"it is a binary a string\")\n",
    "    "
   ]
  },
  {
   "cell_type": "markdown",
   "metadata": {},
   "source": [
    "5.Write a Python program to find uncommon words from two Strings?"
   ]
  },
  {
   "cell_type": "code",
   "execution_count": 76,
   "metadata": {},
   "outputs": [
    {
     "data": {
      "text/plain": [
       "('sri', 's')"
      ]
     },
     "execution_count": 76,
     "metadata": {},
     "output_type": "execute_result"
    }
   ],
   "source": [
    "b=\"naveen kumar sri\"\n",
    "c=\"naveen kumar s\"\n",
    "b=set(b.split())\n",
    "c=set(c.split())\n",
    "uncom=\"\"\n",
    "uncom=\"\"\n",
    "for i in b:\n",
    "    if i not in c:\n",
    "        uncom=uncom+\"\"+i\n",
    "for i in c:\n",
    "    if i not in b:\n",
    "        uncom=uncom+\"\"+i\n",
    "        \n",
    "but,but1"
   ]
  },
  {
   "cell_type": "markdown",
   "metadata": {},
   "source": [
    "6.Write a Python to find all duplicate characters in string?"
   ]
  },
  {
   "cell_type": "code",
   "execution_count": 122,
   "metadata": {},
   "outputs": [
    {
     "name": "stdout",
     "output_type": "stream",
     "text": [
      "the elements which has common {'v', 'e', 'n'}\n"
     ]
    }
   ],
   "source": [
    "b=\"Nasveenv\"\n",
    "b=b.lower()\n",
    "dupset=\"\"\n",
    "for i in range(len(b)):\n",
    "    c=b[:i]\n",
    "    d=b[i+1:]\n",
    "    dup=c+d\n",
    "    if b[i] in dup:\n",
    "        dupset=dupset+b[i]\n",
    "print(\"the elements which has common\",set(dupset))"
   ]
  },
  {
   "cell_type": "markdown",
   "metadata": {},
   "source": [
    "7.Write a Python Program to check if a string contains any special character?"
   ]
  },
  {
   "cell_type": "code",
   "execution_count": 7,
   "metadata": {},
   "outputs": [
    {
     "name": "stdout",
     "output_type": "stream",
     "text": [
      "string has specical character\n"
     ]
    }
   ],
   "source": [
    "n = \"what we what a w$e\"\n",
    "n.split()\n",
    "c = 0\n",
    "s = '[@_!#$%^&*()<>?/\\|}{~:]'  # special character set\n",
    "for i in range(len(n)):\n",
    "    # checking if any special character is present in given string or not\n",
    "    if n[i] in s:\n",
    "        c += 1   # if special character found then add 1 to the c\n",
    " \n",
    "if c>0:\n",
    "    print(\"string has specical character\")\n",
    "else:\n",
    "    print(\"string does not contain specical character\")"
   ]
  }
 ],
 "metadata": {
  "kernelspec": {
   "display_name": "Python 3",
   "language": "python",
   "name": "python3"
  },
  "language_info": {
   "codemirror_mode": {
    "name": "ipython",
    "version": 3
   },
   "file_extension": ".py",
   "mimetype": "text/x-python",
   "name": "python",
   "nbconvert_exporter": "python",
   "pygments_lexer": "ipython3",
   "version": "3.8.5"
  }
 },
 "nbformat": 4,
 "nbformat_minor": 5
}
