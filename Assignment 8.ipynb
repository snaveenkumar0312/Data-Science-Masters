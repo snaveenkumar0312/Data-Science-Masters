{
 "cells": [
  {
   "cell_type": "markdown",
   "metadata": {},
   "source": [
    "1. Is the Python Standard Library included with PyInputPlus?\n",
    "\n",
    "Ans: No its not included."
   ]
  },
  {
   "cell_type": "markdown",
   "metadata": {},
   "source": [
    "2.Why is PyInputPlus commonly imported with import pyinputplus as pypi?\n",
    "\n",
    "Ans: because we can write or use \"pypi\" easily compared to pyinutplus"
   ]
  },
  {
   "cell_type": "markdown",
   "metadata": {},
   "source": [
    "3. How do you distinguish between inputInt() and inputFloat()?\n",
    "\n",
    "Ans: inputInt() takes only integer as input. inputFloat() takes only decimal value as input."
   ]
  },
  {
   "cell_type": "markdown",
   "metadata": {},
   "source": [
    "4. Using PyInputPlus, how do you ensure that the user enters a whole number between 0 and 99?"
   ]
  },
  {
   "cell_type": "code",
   "execution_count": 6,
   "metadata": {},
   "outputs": [
    {
     "name": "stdout",
     "output_type": "stream",
     "text": [
      "Collecting pyinputplus\n",
      "  Downloading PyInputPlus-0.2.12.tar.gz (20 kB)\n",
      "  Installing build dependencies: started\n",
      "  Installing build dependencies: finished with status 'done'\n",
      "  Getting requirements to build wheel: started\n",
      "  Getting requirements to build wheel: finished with status 'done'\n",
      "    Preparing wheel metadata: started\n",
      "    Preparing wheel metadata: finished with status 'done'\n",
      "Collecting pysimplevalidate>=0.2.7\n",
      "  Downloading PySimpleValidate-0.2.12.tar.gz (22 kB)\n",
      "  Installing build dependencies: started\n",
      "  Installing build dependencies: finished with status 'done'\n",
      "  Getting requirements to build wheel: started\n",
      "  Getting requirements to build wheel: finished with status 'done'\n",
      "    Preparing wheel metadata: started\n",
      "    Preparing wheel metadata: finished with status 'done'\n",
      "Collecting stdiomask>=0.0.3\n",
      "  Downloading stdiomask-0.0.6.tar.gz (3.6 kB)\n",
      "  Installing build dependencies: started\n",
      "  Installing build dependencies: finished with status 'done'\n",
      "  Getting requirements to build wheel: started\n",
      "  Getting requirements to build wheel: finished with status 'done'\n",
      "    Preparing wheel metadata: started\n",
      "    Preparing wheel metadata: finished with status 'done'\n",
      "Building wheels for collected packages: pyinputplus, pysimplevalidate, stdiomask\n",
      "  Building wheel for pyinputplus (PEP 517): started\n",
      "  Building wheel for pyinputplus (PEP 517): finished with status 'done'\n",
      "  Created wheel for pyinputplus: filename=PyInputPlus-0.2.12-py3-none-any.whl size=11321 sha256=b4ac0264dea0d185925eb434430d32ef418b505c94c7c1e84117ef0d27faf77d\n",
      "  Stored in directory: c:\\users\\soundarya\\appdata\\local\\pip\\cache\\wheels\\b9\\b4\\e7\\825446929f44b25d05f4df52bc4f7d211e5dec4c547126a098\n",
      "  Building wheel for pysimplevalidate (PEP 517): started\n",
      "  Building wheel for pysimplevalidate (PEP 517): finished with status 'done'\n",
      "  Created wheel for pysimplevalidate: filename=PySimpleValidate-0.2.12-py3-none-any.whl size=16204 sha256=9c68d219cdcfb60e71661d5fa93bde6805fe18ca8886412ae2c04583d43cfda8\n",
      "  Stored in directory: c:\\users\\soundarya\\appdata\\local\\pip\\cache\\wheels\\bd\\d4\\a5\\a003719238ab12962e430310093e567ab7d29bc3bfe062b14c\n",
      "  Building wheel for stdiomask (PEP 517): started\n",
      "  Building wheel for stdiomask (PEP 517): finished with status 'done'\n",
      "  Created wheel for stdiomask: filename=stdiomask-0.0.6-py3-none-any.whl size=3322 sha256=c39ae9098aff084ad5abb00f0d2903498f47438535a2f42eb033edd6b5e93f9f\n",
      "  Stored in directory: c:\\users\\soundarya\\appdata\\local\\pip\\cache\\wheels\\c1\\e9\\4e\\bcdfc282cffe91bb88e951ad9a05fb166ed6460bbe3c6dc02b\n",
      "Successfully built pyinputplus pysimplevalidate stdiomask\n",
      "Installing collected packages: pysimplevalidate, stdiomask, pyinputplus\n",
      "Successfully installed pyinputplus-0.2.12 pysimplevalidate-0.2.12 stdiomask-0.0.6\n"
     ]
    }
   ],
   "source": [
    "!pip install pyinputplus"
   ]
  },
  {
   "cell_type": "code",
   "execution_count": 14,
   "metadata": {},
   "outputs": [
    {
     "name": "stdout",
     "output_type": "stream",
     "text": [
      "Enter an Integer from only 0 to 992\n",
      "2\n"
     ]
    }
   ],
   "source": [
    "\n",
    "import pyinputplus as pyip\n",
    "inp = pyip.inputInt(prompt = \"Enter an Integer from only 0 to 99\",  min=0,\n",
    "    max=99,)\n",
    "  \n",
    "print(inp)"
   ]
  },
  {
   "cell_type": "markdown",
   "metadata": {},
   "source": [
    "5. What is transferred to the keyword arguments allowRegexes and blockRegexes"
   ]
  },
  {
   "cell_type": "markdown",
   "metadata": {},
   "source": [
    "The allowRegexes and blockRegexes keyword arguments take a list of regular expression strings to determine what the PyInputPlus function will accept or reject as valid input."
   ]
  },
  {
   "cell_type": "code",
   "execution_count": null,
   "metadata": {},
   "outputs": [],
   "source": [
    "6. If a blank input is entered three times, what does inputStr(limit=3) do?"
   ]
  },
  {
   "cell_type": "markdown",
   "metadata": {},
   "source": [
    "inp = pyip.inputStr(prompt = \"Enter an Integer... \", limit = 3)\n",
    "  \n",
    "print(inp)\n",
    "\n",
    "Ans: here the loop will execute only 3 times after that it gives error"
   ]
  },
  {
   "cell_type": "code",
   "execution_count": null,
   "metadata": {},
   "outputs": [],
   "source": [
    "7. If blank input is entered three times, what does inputStr(limit=3, default='hello') do?"
   ]
  },
  {
   "cell_type": "code",
   "execution_count": 24,
   "metadata": {},
   "outputs": [
    {
     "name": "stdout",
     "output_type": "stream",
     "text": [
      " \n",
      "Blank values are not allowed.\n",
      " \n",
      "Blank values are not allowed.\n",
      " \n",
      "Blank values are not allowed.\n",
      "hello\n"
     ]
    }
   ],
   "source": [
    "inp = pyip.inputStr(limit=3, default='hello')\n",
    "  \n",
    "print(inp)\n",
    "## after 3 iterations it prints hello"
   ]
  },
  {
   "cell_type": "code",
   "execution_count": null,
   "metadata": {},
   "outputs": [],
   "source": []
  }
 ],
 "metadata": {
  "kernelspec": {
   "display_name": "Python 3",
   "language": "python",
   "name": "python3"
  },
  "language_info": {
   "codemirror_mode": {
    "name": "ipython",
    "version": 3
   },
   "file_extension": ".py",
   "mimetype": "text/x-python",
   "name": "python",
   "nbconvert_exporter": "python",
   "pygments_lexer": "ipython3",
   "version": "3.8.5"
  }
 },
 "nbformat": 4,
 "nbformat_minor": 4
}
