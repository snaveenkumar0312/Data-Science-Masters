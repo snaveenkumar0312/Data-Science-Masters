{
 "cells": [
  {
   "cell_type": "markdown",
   "metadata": {},
   "source": [
    "1.Write a Python Program to Find the Factorial of a Number?"
   ]
  },
  {
   "cell_type": "code",
   "execution_count": 3,
   "metadata": {},
   "outputs": [
    {
     "data": {
      "text/plain": [
       "119"
      ]
     },
     "execution_count": 3,
     "metadata": {},
     "output_type": "execute_result"
    }
   ],
   "source": [
    "\n",
    "def fact(num):\n",
    "    i = num\n",
    "    fact = 1\n",
    "    while i > 0:\n",
    "        fact = fact * i\n",
    "        i = i-1\n",
    "    return(fact)\n",
    "\n",
    "\n",
    "fact(5)-1\n",
    "    "
   ]
  },
  {
   "cell_type": "markdown",
   "metadata": {},
   "source": [
    "2.Write a Python Program to Display the multiplication Table?"
   ]
  },
  {
   "cell_type": "code",
   "execution_count": 4,
   "metadata": {},
   "outputs": [
    {
     "name": "stdout",
     "output_type": "stream",
     "text": [
      "4 * 1 is equal to 4\n",
      "4 * 2 is equal to 8\n",
      "4 * 3 is equal to 12\n",
      "4 * 4 is equal to 16\n",
      "4 * 5 is equal to 20\n",
      "4 * 6 is equal to 24\n",
      "4 * 7 is equal to 28\n",
      "4 * 8 is equal to 32\n",
      "4 * 9 is equal to 36\n",
      "4 * 10 is equal to 40\n"
     ]
    }
   ],
   "source": [
    "def table(n):\n",
    "    for i in range(1,11):\n",
    "        print( n,\"*\",i,\"is equal to\",n*i)\n",
    "        \n",
    "        \n",
    "table(4)        "
   ]
  },
  {
   "cell_type": "code",
   "execution_count": 5,
   "metadata": {},
   "outputs": [
    {
     "name": "stdout",
     "output_type": "stream",
     "text": [
      "Object `sequence` not found.\n"
     ]
    }
   ],
   "source": [
    "3.Write a Python Program to Print the Fibonacci sequence?"
   ]
  },
  {
   "cell_type": "code",
   "execution_count": null,
   "metadata": {},
   "outputs": [],
   "source": [
    "3.Write a Python Program to Print the Fibonacci sequence"
   ]
  },
  {
   "cell_type": "code",
   "execution_count": 6,
   "metadata": {},
   "outputs": [
    {
     "name": "stdout",
     "output_type": "stream",
     "text": [
      "[0, 1, 1, 2, 3, 5, 8, 13, 21, 34]\n"
     ]
    }
   ],
   "source": [
    "def fibonaci(num):\n",
    "    start = 0\n",
    "    next = 1\n",
    "    i = 1\n",
    "    s = [start,next]\n",
    "    while i<num-1:\n",
    "        fib = start+next\n",
    "        s.append(fib)\n",
    "        start = next\n",
    "        next = fib\n",
    "        i = i+1\n",
    "    print(s)\n",
    "        \n",
    "fibonaci(10)   "
   ]
  },
  {
   "cell_type": "code",
   "execution_count": 7,
   "metadata": {},
   "outputs": [
    {
     "name": "stdout",
     "output_type": "stream",
     "text": [
      "Enter the number you want to check23\n",
      "23 is not an Armstrong Number\n"
     ]
    }
   ],
   "source": [
    "#4.\tWrite a Python Program to Check Armstrong Number?\n",
    "\n",
    "number = int(input(\"Enter the number you want to check\"))\n",
    "\n",
    "def armstrong(num):\n",
    "    sum = 0\n",
    "    temp = num\n",
    "    while num > 0:\n",
    "        digit = num % 10\n",
    "        sum = sum + digit ** 3\n",
    "        num = num //10\n",
    "        \n",
    "    if sum == temp:\n",
    "        print(f\"{temp} is an Armstrong Number\")\n",
    "    else:\n",
    "        print(f\"{temp} is not an Armstrong Number\")\n",
    "    \n",
    "armstrong(number)"
   ]
  },
  {
   "cell_type": "code",
   "execution_count": 8,
   "metadata": {},
   "outputs": [
    {
     "name": "stdout",
     "output_type": "stream",
     "text": [
      "Enter the starting number of the interval 13\n",
      "Enter the Ending number of the interval 24\n",
      "Armstrong number/numbers in the given interval = []\n"
     ]
    }
   ],
   "source": [
    "#5.\tWrite a Python Program to Find Armstrong Number in an Interval?\n",
    "\n",
    "start = int(input(\"Enter the starting number of the interval \"))\n",
    "end = int(input(\"Enter the Ending number of the interval \"))\n",
    "\n",
    "def armstrong(num):\n",
    "    sum = 0\n",
    "    temp = num\n",
    "    while num > 0:\n",
    "        digit = num % 10\n",
    "        sum = sum + digit ** 3\n",
    "        num = num //10\n",
    "        \n",
    "    if sum == temp:\n",
    "        return True\n",
    "    else:\n",
    "        return False\n",
    "        \n",
    "A_num = []\n",
    "\n",
    "for i in range(start,end+1):\n",
    "    if armstrong(i) == True:\n",
    "        A_num.append(i)\n",
    "    \n",
    "print(f\"Armstrong number/numbers in the given interval = {A_num}\")"
   ]
  },
  {
   "cell_type": "code",
   "execution_count": 10,
   "metadata": {},
   "outputs": [
    {
     "name": "stdout",
     "output_type": "stream",
     "text": [
      "Enter the natural number untill which sum is needed 5\n"
     ]
    },
    {
     "data": {
      "text/plain": [
       "15.0"
      ]
     },
     "execution_count": 10,
     "metadata": {},
     "output_type": "execute_result"
    }
   ],
   "source": [
    "#6.\tWrite a Python Program to Find the Sum of Natural Numbers?\n",
    "\n",
    "number = int(input(\"Enter the natural number untill which sum is needed \"))\n",
    "\n",
    "def sum_natural(num):\n",
    "    return (num*(num+1))/2\n",
    "    \n",
    "sum_natural(number)"
   ]
  }
 ],
 "metadata": {
  "kernelspec": {
   "display_name": "Python 3",
   "language": "python",
   "name": "python3"
  },
  "language_info": {
   "codemirror_mode": {
    "name": "ipython",
    "version": 3
   },
   "file_extension": ".py",
   "mimetype": "text/x-python",
   "name": "python",
   "nbconvert_exporter": "python",
   "pygments_lexer": "ipython3",
   "version": "3.8.5"
  }
 },
 "nbformat": 4,
 "nbformat_minor": 5
}
