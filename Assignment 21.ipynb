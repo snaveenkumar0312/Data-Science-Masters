{
 "cells": [
  {
   "cell_type": "markdown",
   "metadata": {},
   "source": [
    "1. Add the current date to the text file today.txt as a string.\n"
   ]
  },
  {
   "cell_type": "code",
   "execution_count": 14,
   "metadata": {},
   "outputs": [],
   "source": [
    "import datetime"
   ]
  },
  {
   "cell_type": "code",
   "execution_count": 15,
   "metadata": {},
   "outputs": [],
   "source": [
    "a=str(datetime.date.today())"
   ]
  },
  {
   "cell_type": "code",
   "execution_count": 18,
   "metadata": {},
   "outputs": [],
   "source": [
    "b= open(\"today.txt\" , \"w\")\n",
    "b.write(a)\n",
    "b.close()"
   ]
  },
  {
   "cell_type": "markdown",
   "metadata": {},
   "source": [
    "2. Read the text file today.txt into the string today_string"
   ]
  },
  {
   "cell_type": "code",
   "execution_count": 29,
   "metadata": {},
   "outputs": [
    {
     "data": {
      "text/plain": [
       "'2023-03-23'"
      ]
     },
     "execution_count": 29,
     "metadata": {},
     "output_type": "execute_result"
    }
   ],
   "source": [
    "today_string= open(\"today.txt\" , \"r\")\n",
    "today_string.read()"
   ]
  },
  {
   "cell_type": "markdown",
   "metadata": {},
   "source": [
    "3. Parse the date from today_string."
   ]
  },
  {
   "cell_type": "code",
   "execution_count": 39,
   "metadata": {},
   "outputs": [
    {
     "data": {
      "text/plain": [
       "datetime.date(2023, 3, 23)"
      ]
     },
     "execution_count": 39,
     "metadata": {},
     "output_type": "execute_result"
    }
   ],
   "source": [
    "from datetime import datetime\n",
    "\n",
    "date_str = \"2023-03-23\"\n",
    "\n",
    "date_object = datetime.strptime(date_str, '%Y-%m-%d').date()\n",
    "date_object"
   ]
  },
  {
   "cell_type": "markdown",
   "metadata": {},
   "source": [
    "4. List the files in your current directory"
   ]
  },
  {
   "cell_type": "code",
   "execution_count": 42,
   "metadata": {},
   "outputs": [
    {
     "data": {
      "text/plain": [
       "'C:\\\\Users\\\\soundarya\\\\Python Assignments\\\\assignment answers'"
      ]
     },
     "execution_count": 42,
     "metadata": {},
     "output_type": "execute_result"
    }
   ],
   "source": [
    "pwd()"
   ]
  },
  {
   "cell_type": "code",
   "execution_count": 44,
   "metadata": {},
   "outputs": [
    {
     "data": {
      "text/plain": [
       "['.ipynb_checkpoints',\n",
       " 'Assignment 10.ipynb',\n",
       " 'Assignment 11.ipynb',\n",
       " 'Assignment 13.ipynb',\n",
       " 'Assignment 14.ipynb',\n",
       " 'Assignment 15.ipynb',\n",
       " 'Assignment 16.ipynb',\n",
       " 'Assignment 17.ipynb',\n",
       " 'Assignment 18.ipynb',\n",
       " 'Assignment 19 - quiestons incomplete.ipynb',\n",
       " 'Assignment 2.ipynb',\n",
       " 'Assignment 20.ipynb',\n",
       " 'Assignment 21.ipynb',\n",
       " 'Assignment 3.ipynb',\n",
       " 'Assignment 4.ipynb',\n",
       " 'Assignment 5.ipynb',\n",
       " 'Assignment 6.ipynb',\n",
       " 'Assignment 7.ipynb',\n",
       " 'assignment 9.ipynb',\n",
       " 'Assignment12.ipynb',\n",
       " 'Assignment_8.ipynb',\n",
       " 'books.txt',\n",
       " 'Get_Started_With_Smallpdf.pdf',\n",
       " 'programming Assignment 10.ipynb',\n",
       " 'Programming assignment 11.ipynb',\n",
       " 'Programming Assignment 12.ipynb',\n",
       " 'Programming assignment 13.ipynb',\n",
       " 'Programming Assignment 2.ipynb',\n",
       " 'Programming assignment 3.ipynb',\n",
       " 'Programming assignment 4.ipynb',\n",
       " 'Programming Assignment 6.ipynb',\n",
       " 'Programming assignment 7.ipynb',\n",
       " 'Programming_Assignment 1.ipynb',\n",
       " 'test.txt',\n",
       " 'today.txt',\n",
       " 'Untitled.ipynb',\n",
       " 'zoo.py',\n",
       " 'zoo.py.ipynb',\n",
       " '__pycache__']"
      ]
     },
     "execution_count": 44,
     "metadata": {},
     "output_type": "execute_result"
    }
   ],
   "source": [
    "import os\n",
    "os.listdir('C:\\\\Users\\\\soundarya\\\\Python Assignments\\\\assignment answers')"
   ]
  },
  {
   "cell_type": "code",
   "execution_count": null,
   "metadata": {},
   "outputs": [],
   "source": [
    "5. Create a list of all of the files in your parent directory (minimum five files should be available)."
   ]
  },
  {
   "cell_type": "code",
   "execution_count": 47,
   "metadata": {},
   "outputs": [
    {
     "data": {
      "text/plain": [
       "'C:\\\\Users\\\\soundarya\\\\Python Assignments'"
      ]
     },
     "execution_count": 47,
     "metadata": {},
     "output_type": "execute_result"
    }
   ],
   "source": [
    "os.path.abspath(os.pardir)"
   ]
  },
  {
   "cell_type": "code",
   "execution_count": 49,
   "metadata": {},
   "outputs": [
    {
     "data": {
      "text/plain": [
       "['.ipynb_checkpoints',\n",
       " 'assignment answers',\n",
       " 'dummy folder 1',\n",
       " 'dummy folder 2',\n",
       " 'Questions 1']"
      ]
     },
     "execution_count": 49,
     "metadata": {},
     "output_type": "execute_result"
    }
   ],
   "source": [
    "os.listdir('C:\\\\Users\\\\soundarya\\\\Python Assignments')"
   ]
  },
  {
   "cell_type": "markdown",
   "metadata": {},
   "source": [
    "6. Use multiprocessing to create three separate processes. Make each one wait a random number of seconds between one and five, print the current time, and then exit."
   ]
  },
  {
   "cell_type": "code",
   "execution_count": 1,
   "metadata": {},
   "outputs": [
    {
     "name": "stdout",
     "output_type": "stream",
     "text": [
      "Waiting for 2 seconds\n",
      "current time is 2023-05-21 11:24:57.695609\n",
      "Waiting for 5 seconds\n",
      "current time is 2023-05-21 11:25:02.699255\n",
      "Waiting for 5 seconds\n",
      "current time is 2023-05-21 11:25:07.718378\n",
      "2023-05-21 11:25:07.718378\n",
      "It takes 0.1784672737121582 seconds\n"
     ]
    }
   ],
   "source": [
    "import multiprocessing,time,datetime\n",
    "import random\n",
    "\n",
    "def process1():\n",
    "    t1 = random.randint(1,5)\n",
    "    print(\"Waiting for \"+str(t1)+\" seconds\")\n",
    "    time.sleep(t1)\n",
    "    print(f\"current time is {datetime.datetime.now()}\")\n",
    "    \n",
    "def process2():\n",
    "    t2 = random.randint(1,5)\n",
    "    print(\"Waiting for \"+str(t2)+\" seconds\")\n",
    "    time.sleep(t2)\n",
    "    print(f\"current time is {datetime.datetime.now()}\")\n",
    "    \n",
    "def process3():\n",
    "    t3 = random.randint(1,5)\n",
    "    print(\"Waiting for \"+str(t3)+\" seconds\")\n",
    "    time.sleep(t3)\n",
    "    print(f\"current time is {datetime.datetime.now()}\")\n",
    "    \n",
    "process1 = process1()\n",
    "process2 = process2()\n",
    "process3 = process3()\n",
    "\n",
    "start = time.time()\n",
    "\n",
    "print(datetime.datetime.now())\n",
    "  \n",
    "p1 = multiprocessing.Process(target=process1)\n",
    "p2 = multiprocessing.Process(target=process2)\n",
    "p3 = multiprocessing.Process(target=process3)\n",
    "\n",
    "p1.start()\n",
    "p2.start()\n",
    "p3.start()\n",
    "\n",
    "p1.join()\n",
    "p2.join()\n",
    "p3.join()\n",
    "\n",
    "end = time.time()\n",
    "    \n",
    "\n",
    "print(\"It takes \" +str(end-start)+\" seconds\")"
   ]
  },
  {
   "cell_type": "markdown",
   "metadata": {},
   "source": [
    "7. Create a date object of your day of birth.\n"
   ]
  },
  {
   "cell_type": "code",
   "execution_count": 50,
   "metadata": {},
   "outputs": [
    {
     "data": {
      "text/plain": [
       "datetime.date(1995, 12, 3)"
      ]
     },
     "execution_count": 50,
     "metadata": {},
     "output_type": "execute_result"
    }
   ],
   "source": [
    "date_str = \"1995-12-03\"\n",
    "\n",
    "date_object = datetime.strptime(date_str, '%Y-%m-%d').date()\n",
    "date_object"
   ]
  },
  {
   "cell_type": "markdown",
   "metadata": {},
   "source": [
    "8. What day of the week was your day of birth?\n"
   ]
  },
  {
   "cell_type": "code",
   "execution_count": 59,
   "metadata": {},
   "outputs": [
    {
     "data": {
      "text/plain": [
       "'Sunday'"
      ]
     },
     "execution_count": 59,
     "metadata": {},
     "output_type": "execute_result"
    }
   ],
   "source": [
    "a=date_object.weekday()\n",
    "import calendar\n",
    "calendar.day_name[a]"
   ]
  },
  {
   "cell_type": "code",
   "execution_count": null,
   "metadata": {},
   "outputs": [],
   "source": [
    "9. When will you be (or when were you) 10,000 days old?\n"
   ]
  },
  {
   "cell_type": "code",
   "execution_count": 64,
   "metadata": {},
   "outputs": [
    {
     "data": {
      "text/plain": [
       "datetime.date(1995, 12, 3)"
      ]
     },
     "execution_count": 64,
     "metadata": {},
     "output_type": "execute_result"
    }
   ],
   "source": [
    "date_object"
   ]
  },
  {
   "cell_type": "code",
   "execution_count": 63,
   "metadata": {},
   "outputs": [
    {
     "data": {
      "text/plain": [
       "datetime.date(2023, 4, 20)"
      ]
     },
     "execution_count": 63,
     "metadata": {},
     "output_type": "execute_result"
    }
   ],
   "source": [
    "from datetime import datetime, timedelta\n",
    "\n",
    "(date_object + timedelta(days=10000, hours=0))"
   ]
  }
 ],
 "metadata": {
  "kernelspec": {
   "display_name": "Python 3",
   "language": "python",
   "name": "python3"
  },
  "language_info": {
   "codemirror_mode": {
    "name": "ipython",
    "version": 3
   },
   "file_extension": ".py",
   "mimetype": "text/x-python",
   "name": "python",
   "nbconvert_exporter": "python",
   "pygments_lexer": "ipython3",
   "version": "3.8.5"
  }
 },
 "nbformat": 4,
 "nbformat_minor": 4
}
