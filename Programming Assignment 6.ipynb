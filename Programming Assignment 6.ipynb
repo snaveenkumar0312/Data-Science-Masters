{
 "cells": [
  {
   "cell_type": "code",
   "execution_count": null,
   "metadata": {},
   "outputs": [],
   "source": [
    "1.Write a Python Program to Display Fibonacci Sequence Using Recursion?"
   ]
  },
  {
   "cell_type": "code",
   "execution_count": 1,
   "metadata": {},
   "outputs": [
    {
     "name": "stdout",
     "output_type": "stream",
     "text": [
      "Enter number of terms of fibonaci Sequence is required2\n",
      "0 1 "
     ]
    }
   ],
   "source": [
    "num = eval(input(\"Enter number of terms of fibonaci Sequence is required\"))\n",
    "\n",
    "\n",
    "def fibonaci(n,a,b):\n",
    "    i=0\n",
    "    c = a+b\n",
    "    if i < n:\n",
    "        #print(f\"a = {a}, b = {b}\", end= \" \")\n",
    "        #print(f\"c = {c}\", end = \" \")\n",
    "        print(a,end = \" \")\n",
    "        a = b\n",
    "        b = c\n",
    "        fibonaci(n-1,a,b)\n",
    "    \n",
    "fibonaci(num,0,1)\n",
    "    "
   ]
  },
  {
   "cell_type": "markdown",
   "metadata": {},
   "source": [
    "2.Write a Python Program to Find Factorial of Number Using Recursion?"
   ]
  },
  {
   "cell_type": "code",
   "execution_count": 3,
   "metadata": {},
   "outputs": [
    {
     "name": "stdout",
     "output_type": "stream",
     "text": [
      "Enter number for which factorial is required \n",
      "3\n"
     ]
    },
    {
     "data": {
      "text/plain": [
       "6"
      ]
     },
     "execution_count": 3,
     "metadata": {},
     "output_type": "execute_result"
    }
   ],
   "source": [
    "num = eval(input(\"Enter number for which factorial is required \\n\"))\n",
    "\n",
    "def factorial(n):\n",
    "    \n",
    "    if n == 1 or n == 0:\n",
    "        return 1\n",
    "    else:\n",
    "        return (n * factorial(n-1))\n",
    "    \n",
    "\n",
    "factorial(num)\n",
    "        \n",
    "    "
   ]
  },
  {
   "cell_type": "markdown",
   "metadata": {},
   "source": [
    "3.Write a Python Program to calculate your Body Mass Index?"
   ]
  },
  {
   "cell_type": "code",
   "execution_count": 5,
   "metadata": {},
   "outputs": [
    {
     "name": "stdout",
     "output_type": "stream",
     "text": [
      "enter your mass in kg -56\n",
      "enter your height in meter -160\n",
      "your body mass index is  0.0021875\n"
     ]
    }
   ],
   "source": [
    "b=int(input(\"enter your mass in kg -\"  ))\n",
    "a=int(input(\"enter your height in meter -\"  ))\n",
    "c=b/(a*a)\n",
    "print(\"your body mass index is \",c)"
   ]
  },
  {
   "cell_type": "code",
   "execution_count": null,
   "metadata": {},
   "outputs": [],
   "source": [
    "4.Write a Python Program to calculate the natural logarithm of any number?"
   ]
  },
  {
   "cell_type": "code",
   "execution_count": 6,
   "metadata": {},
   "outputs": [
    {
     "name": "stdout",
     "output_type": "stream",
     "text": [
      "enter the number to get natural log -25\n",
      "log of number is 3.2188758248682006\n"
     ]
    }
   ],
   "source": [
    "import math\n",
    "b=int(input(\"enter the number to get natural log -\"  ))\n",
    "print(\"log of number is\",math.log(b))\n"
   ]
  },
  {
   "cell_type": "code",
   "execution_count": null,
   "metadata": {},
   "outputs": [],
   "source": [
    "5.Write a Python Program for cube sum of first n natural numbers?"
   ]
  },
  {
   "cell_type": "code",
   "execution_count": 19,
   "metadata": {},
   "outputs": [
    {
     "name": "stdout",
     "output_type": "stream",
     "text": [
      "enter the number to get sum -9\n"
     ]
    },
    {
     "data": {
      "text/plain": [
       "1296"
      ]
     },
     "execution_count": 19,
     "metadata": {},
     "output_type": "execute_result"
    }
   ],
   "source": [
    "n=int(input(\"enter the number to get sum -\"  ))\n",
    "cubesum=[]\n",
    "for i in range(n):\n",
    "    b=i*i*i\n",
    "    cubesum.append(b)\n",
    "total=0\n",
    "for j in range(0, len(cubesum)):\n",
    "    total = total + cubesum[j]\n",
    "    \n",
    "total "
   ]
  },
  {
   "cell_type": "code",
   "execution_count": 14,
   "metadata": {},
   "outputs": [
    {
     "data": {
      "text/plain": [
       "[0,\n",
       " 1,\n",
       " 8,\n",
       " 27,\n",
       " 64,\n",
       " 125,\n",
       " 216,\n",
       " 343,\n",
       " 512,\n",
       " 729,\n",
       " 1000,\n",
       " 1331,\n",
       " 1728,\n",
       " 2197,\n",
       " 2744,\n",
       " 3375,\n",
       " 4096,\n",
       " 4913,\n",
       " 5832,\n",
       " 6859,\n",
       " 8000,\n",
       " 9261,\n",
       " 10648,\n",
       " 12167,\n",
       " 13824]"
      ]
     },
     "execution_count": 14,
     "metadata": {},
     "output_type": "execute_result"
    }
   ],
   "source": [
    "cubesum"
   ]
  },
  {
   "cell_type": "code",
   "execution_count": null,
   "metadata": {},
   "outputs": [],
   "source": []
  }
 ],
 "metadata": {
  "kernelspec": {
   "display_name": "Python 3",
   "language": "python",
   "name": "python3"
  },
  "language_info": {
   "codemirror_mode": {
    "name": "ipython",
    "version": 3
   },
   "file_extension": ".py",
   "mimetype": "text/x-python",
   "name": "python",
   "nbconvert_exporter": "python",
   "pygments_lexer": "ipython3",
   "version": "3.8.5"
  }
 },
 "nbformat": 4,
 "nbformat_minor": 5
}
